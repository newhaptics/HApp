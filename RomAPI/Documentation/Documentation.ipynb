{
  "metadata": {
    "language_info": {
      "name": ""
    },
    "kernelspec": {
      "name": "python",
      "display_name": "Python (Pyodide)",
      "language": "python"
    }
  },
  "nbformat_minor": 4,
  "nbformat": 4,
  "cells": [
    {
      "cell_type": "raw",
      "source": "RomAPI Documentation\nThe RomAPI is a modular and extensible state machine-based system designed to manage various states and their transitions in an application or simulation. The system is built using a RomController class, which serves as the main controller, managing the current state and state transitions.",
      "metadata": {}
    },
    {
      "cell_type": "markdown",
      "source": "Main Classes\nRomController\nRomState\nRomKeyboardHandles\nRomMouseHandles\nRomOperation\nRomFlag\nRomVisualizationHandles",
      "metadata": {}
    },
    {
      "cell_type": "markdown",
      "source": "Getting Started\nTo use the RomAPI, you will need to import the required classes and define your custom states by subclassing RomState. Then, create an instance of RomController, set the initial state, and define available states in the romStateDictionary. Finally, call the runRom() method to start the state machine.\nExample:",
      "metadata": {}
    },
    {
      "cell_type": "code",
      "source": "from RomAPI import RomController, RomState\n\nclass MyState(RomState):\n    def stepState(self):\n        # Custom logic for this state\n        pass\n\n    def getNextState(self):\n        # Determine the next state\n        return \"MyState\"\n\n# Create an instance of RomController with the HapticsEngineAddress and a stopEvent\nrom_controller = RomController(HapticsEngineAddress, stopEvent)\n\n# Set the initial state\nrom_controller.stateKey = \"MyState\"\n\n# Define available states\nrom_controller.romStateDictionary = {\n    \"MyState\": MyState(rom_controller)\n}\n\n# Start the state machine\nrom_controller.runRom()",
      "metadata": {},
      "execution_count": null,
      "outputs": []
    },
    {
      "cell_type": "markdown",
      "source": "RomController\nThe RomController class is responsible for managing the state machine, including state transitions and executing state-related methods.\n\nMethods:\n\nstartCurrentState(): Starts the current state.\nstepCurrentState(): Steps through the current state.\ndecideNextState(): Determines and switches to the next state based on the current state.\ngetCurrentState(): Returns the current state instance.\nswitchState(stateKey): Switches to the state specified by stateKey.\nexitRom(): Exits the state machine.\nrunRom(): Starts the main loop of the state machine.",
      "metadata": {}
    },
    {
      "cell_type": "markdown",
      "source": "RomState\nThe RomState class represents a state in the state machine. To define a custom state, subclass RomState and implement the stepState() and getNextState() methods.\n\nMethods:\n\nstepState(): Contains the custom logic to be executed during this state.\nstartState(): Contains logic to be executed when the state is started.\ncloseState(): Contains logic to be executed when the state is closed.\ngetNextState(): Determines and returns the key for the next state based on the current state.",
      "metadata": {}
    },
    {
      "cell_type": "markdown",
      "source": "RomKeyboardHandles, RomMouseHandles, RomOperation, RomFlag, RomVisualizationHandles\nThese classes can be subclassed and customized to handle specific keyboard input, mouse input, operations, flags, and visualizations for your application.",
      "metadata": {}
    },
    {
      "cell_type": "markdown",
      "source": "In addition to the main classes mentioned previously, the RomAPI interacts with the HapticsEngine system, which provides a centralized way to manage and control various resources within an application.",
      "metadata": {}
    },
    {
      "cell_type": "markdown",
      "source": "Using RomAPI with HapticsEngine\nTo use the RomAPI in conjunction with the HapticsEngine, you will need to create an instance of the HapticsEngine class and pass its address to the RomController during instantiation.\n\nExample:",
      "metadata": {}
    },
    {
      "cell_type": "code",
      "source": "from HapticsEngine import HapticsEngine\nfrom RomAPI import RomController, RomState\n\nclass MyState(RomState):\n    def stepState(self):\n        # Custom logic for this state\n        pass\n\n    def getNextState(self):\n        # Determine the next state\n        return \"MyState\"\n\n# Create an instance of HapticsEngine\nhaptics_engine = HapticsEngine()\n\n# Create an instance of RomController with the HapticsEngineAddress and a stopEvent\nrom_controller = RomController(HapticsEngineAddress=haptics_engine, stopEvent=stop_event)\n\n# Set the initial state\nrom_controller.stateKey = \"MyState\"\n\n# Define available states\nrom_controller.romStateDictionary = {\n    \"MyState\": MyState(rom_controller)\n}\n\n# Start the state machine\nrom_controller.runRom()",
      "metadata": {},
      "execution_count": null,
      "outputs": []
    },
    {
      "cell_type": "markdown",
      "source": "Interacting with HapticsEngine Resources\nWhile implementing custom RomStates, you may need to interact with various HapticsEngine resources, such as flags, operations, peripherals, and visualizations. The RomController class provides a reference to the HapticsEngine instance, which can be accessed through the HAppControlCenter attribute.\n\nExample:",
      "metadata": {}
    },
    {
      "cell_type": "code",
      "source": "from RomAPI import RomState\n\nclass MyState(RomState):\n    def stepState(self):\n        # Custom logic for this state\n        haptics_engine = self.Controller.HAppControlCenter\n\n        # Interact with HapticsEngine resources\n        my_flag = haptics_engine.getFlag(\"my_flag\")\n        my_operation = haptics_engine.getOperation(\"my_operation\")\n        my_peripheral = haptics_engine.getPeripheral(\"my_peripheral\")\n        my_visualization = haptics_engine.getVisualization(\"my_visualization\")\n\n    def getNextState(self):\n        # Determine the next state\n        return \"MyState\"",
      "metadata": {},
      "execution_count": null,
      "outputs": []
    },
    {
      "cell_type": "markdown",
      "source": "Using this approach, you can seamlessly integrate the RomAPI with the HapticsEngine system and leverage its powerful resource management capabilities to create more complex and dynamic applications.",
      "metadata": {}
    },
    {
      "cell_type": "markdown",
      "source": "To subclass each of the classes mentioned (RomKeyboardHandles, RomMouseHandles, RomOperation, RomFlag, and RomVisualizationHandles) and add them to the HapticsEngine via the Controller.HAppControlCenter, follow the examples below:",
      "metadata": {}
    },
    {
      "cell_type": "markdown",
      "source": "Subclassing RomKeyboardHandles",
      "metadata": {}
    },
    {
      "cell_type": "code",
      "source": "from RomAPI import RomKeyboardHandles\n\nclass CustomKeyboardHandles(RomKeyboardHandles):\n    def handle_key_press(self, key):\n        # Custom logic for handling key presses\n        pass\n\n    def handle_key_release(self, key):\n        # Custom logic for handling key releases\n        pass\n\n# Instantiate CustomKeyboardHandles\ncustom_keyboard_handles = CustomKeyboardHandles()",
      "metadata": {},
      "execution_count": null,
      "outputs": []
    },
    {
      "cell_type": "markdown",
      "source": "Subclassing RomMouseHandles",
      "metadata": {}
    },
    {
      "cell_type": "code",
      "source": "from RomAPI import RomMouseHandles\n\nclass CustomMouseHandles(RomMouseHandles):\n    def handle_mouse_press(self, event):\n        # Custom logic for handling mouse button presses\n        pass\n\n    def handle_mouse_release(self, event):\n        # Custom logic for handling mouse button releases\n        pass\n\n    def handle_mouse_move(self, event):\n        # Custom logic for handling mouse movement\n        pass\n\n# Instantiate CustomMouseHandles\ncustom_mouse_handles = CustomMouseHandles()",
      "metadata": {},
      "execution_count": null,
      "outputs": []
    },
    {
      "cell_type": "markdown",
      "source": "Subclassing RomOperation",
      "metadata": {}
    },
    {
      "cell_type": "code",
      "source": "from RomAPI import RomOperation\n\nclass CustomOperation(RomOperation):\n    def execute(self):\n        # Custom logic for executing the operation\n        pass\n\n# Instantiate CustomOperation\ncustom_operation = CustomOperation(\"custom_operation\")",
      "metadata": {},
      "execution_count": null,
      "outputs": []
    },
    {
      "cell_type": "markdown",
      "source": "Subclassing RomFlag",
      "metadata": {}
    },
    {
      "cell_type": "code",
      "source": "from RomAPI import RomFlag\n\nclass CustomFlag(RomFlag):\n    def __init__(self, name, initial_value):\n        super().__init__(name)\n        self.value = initial_value\n\n    def set_value(self, value):\n        self.value = value\n\n    def get_value(self):\n        return self.value\n\n# Instantiate CustomFlag\ncustom_flag = CustomFlag(\"custom_flag\", True)",
      "metadata": {},
      "execution_count": null,
      "outputs": []
    },
    {
      "cell_type": "markdown",
      "source": "Subclassing RomVisualizationHandles",
      "metadata": {}
    },
    {
      "cell_type": "code",
      "source": "from RomAPI import RomVisualizationHandles\n\nclass CustomVisualizationHandles(RomVisualizationHandles):\n    def __init__(self):\n        super().__init__()\n\n    def display(self):\n        # Custom logic for displaying the visualization\n        pass\n\n# Instantiate CustomVisualizationHandles\ncustom_visualization_handles = CustomVisualizationHandles()",
      "metadata": {},
      "execution_count": null,
      "outputs": []
    },
    {
      "cell_type": "markdown",
      "source": "Adding Custom Classes to HapticsEngine\nAfter creating instances of the custom classes, you can add them to the HapticsEngine via the Controller.HAppControlCenter.\n\nExample:",
      "metadata": {}
    },
    {
      "cell_type": "code",
      "source": "# Assuming you have an instance of RomController named rom_controller\n\nhaptics_engine = rom_controller.Controller.HAppControlCenter\n\n# Adding custom resources to HapticsEngine\nhaptics_engine.addFlag(custom_flag)\nhaptics_engine.addOperation(custom_operation)\nhaptics_engine.addPeripheral(custom_keyboard_handles)\nhaptics_engine.addPeripheral(custom_mouse_handles)\nhaptics_engine.addVisualization(custom_visualization_handles)",
      "metadata": {},
      "execution_count": null,
      "outputs": []
    },
    {
      "cell_type": "markdown",
      "source": "By following these examples, you can easily subclass and add custom resources to the HapticsEngine through the Controller.HAppControlCenter. This allows you to extend the functionality of the RomAPI and create more advanced and tailored applications.",
      "metadata": {}
    },
    {
      "cell_type": "markdown",
      "source": "Creating Tetris",
      "metadata": {}
    },
    {
      "cell_type": "markdown",
      "source": "To create a Tetris ROM using the RomAPI, we'll follow these steps:\n\nCreate a Tetris game logic module\nImplement custom Tetris operations\nDefine the Tetris game state and state transitions\nIntegrate the game logic into a ROM using the RomAPI",
      "metadata": {}
    },
    {
      "cell_type": "markdown",
      "source": "Step 1: Create a Tetris game logic module (tetris_logic.py)",
      "metadata": {}
    },
    {
      "cell_type": "code",
      "source": "import numpy as np\nimport random\n\n# Define Tetris shapes\nSHAPES = [\n    [['.....',\n      '.....',\n      '..O..',\n      '.OOO.',\n      '.....'],\n     ['.....',\n      '..O..',\n      '..OO.',\n      '...O.',\n      '.....']],\n    [['.....',\n      '.....',\n      '.OOO.',\n      '..O..',\n      '.....'],\n     ['.....',\n      '...O.',\n      '..OO.',\n      '..O..',\n      '.....']],\n    [['.....',\n      '.....',\n      '.OO..',\n      '..OO.',\n      '.....'],\n     ['.....',\n      '...O.',\n      '..O..',\n      '.OO..',\n      '.....']],\n    [['.....',\n      '.....',\n      '..OO.',\n      '.OO..',\n      '.....'],\n     ['.....',\n      '..O..',\n      '...O.',\n      '...OO',\n      '.....']],\n    [['.....',\n      '.....',\n      '.OO..',\n      '.OO..',\n      '.....']],\n    [['.....',\n      '.....',\n      '.OOO.',\n      '.O...',\n      '.....'],\n     ['.....',\n      '..OO.',\n      '..O..',\n      '..O..',\n      '.....']],\n    [['.....',\n      '.....',\n      '...O.',\n      '.OOO.',\n      '.....'],\n     ['.....',\n      '..O..',\n      '..O..',\n      '.OO..',\n      '.....']]\n]\n\ndef create_board():\n    return np.zeros((20, 10), dtype=int)\n\ndef new_piece():\n    shape = random.choice(SHAPES)\n    return shape\n\ndef valid_move(board, piece, x, y):\n    # Check if the move is valid\n    pass\n\ndef clear_lines(board):\n    # Clear full lines and return the number of lines cleared\n    pass\n\ndef rotate_piece(piece):\n    # Rotate the piece\n    pass\n\ndef move_piece(board, piece, x, y, dx, dy):\n    # Move the piece to a new position\n    pass\n\ndef drop_piece(board, piece, x, y):\n    # Drop the piece to the bottom\n    pass\n\ndef game_over(board):\n    # Check if the game is over\n    pass\n",
      "metadata": {},
      "execution_count": null,
      "outputs": []
    },
    {
      "cell_type": "markdown",
      "source": "Step 2: Implement custom Tetris operations (tetris_operations.py)",
      "metadata": {}
    },
    {
      "cell_type": "code",
      "source": "from RomAPI import RomOperation\n\nclass TetrisOperation(RomOperation):\n\n    def __init__(self, name, tetris_board, tetris_piece):\n        super().__init__(name)\n        self.tetris_board = tetris_board\n        self.tetris_piece = tetris_piece\n\n    def execute(self):\n        pass\n\nclass MoveLeftOperation(TetrisOperation):\n\n    def execute(self):\n        pass\n\nclass MoveRightOperation(TetrisOperation):\n\n    def execute(self):\n        pass\n\nclass RotateOperation(TetrisOperation):\n\n    def execute(self):\n        pass\n\nclass DropOperation(TetrisOperation):\n\n    def execute(self):\n        pass",
      "metadata": {},
      "execution_count": null,
      "outputs": []
    },
    {
      "cell_type": "markdown",
      "source": "Step 3: Define the Tetris game state and state transitions (tetris_state.py)",
      "metadata": {}
    },
    {
      "cell_type": "code",
      "source": "from RomAPI import RomState\n\nclass TetrisState(RomState):\n\n    def __init__(self, Controller):\n        super().__init__(Controller)\n\n    def stepState(self):\n        # Redefined by the user in the appropriate subclass\n        pass\n        \n    def startState(self):\n        # Initialize the Tetris game\n        pass\n\n    def closeState(self):\n        # End the Tetris game\n        pass\n\n    def getNextState(self, RomController):\n        # Get values for the truth table\n        pass\n",
      "metadata": {},
      "execution_count": null,
      "outputs": []
    },
    {
      "cell_type": "markdown",
      "source": "Step 4: Integrate the game logic into a ROM using the RomAPI (tetris_rom.py)",
      "metadata": {}
    },
    {
      "cell_type": "code",
      "source": "from RomAPI import RomController, RomKeyboardHandles\nfrom tetris_logic import create_board, new_piece\nfrom tetris_operations import MoveLeftOperation, MoveRightOperation, RotateOperation, DropOperation\nfrom tetris_state import TetrisState\n\nclass TetrisRomController(RomController):\n\n    def __init__(self, HapticsEngineAddress, stopEvent):\n        super().__init__(HapticsEngineAddress, stopEvent)\n\n        # Initialize the Tetris game state\n        self.stateKey = 'tetris'\n        self.romStateDictionary = {'tetris': TetrisState(self)}\n\n        # Initialize the Tetris game board and the current piece\n        self.tetris_board = create_board()\n        self.tetris_piece = new_piece()\n\n        # Add Tetris operations\n        self.HAppControlCenter.addOperation(MoveLeftOperation('move_left', self.tetris_board, self.tetris_piece))\n        self.HAppControlCenter.addOperation(MoveRightOperation('move_right', self.tetris_board, self.tetris_piece))\n        self.HAppControlCenter.addOperation(RotateOperation('rotate', self.tetris_board, self.tetris_piece))\n        self.HAppControlCenter.addOperation(DropOperation('drop', self.tetris_board, self.tetris_piece))\n\nclass TetrisKeyboardHandles(RomKeyboardHandles):\n\n    def __init__(self):\n        super().__init__()\n\n# In the main application, create an instance of the TetrisRomController and\n# integrate it with the HapticsEngine.",
      "metadata": {},
      "execution_count": null,
      "outputs": []
    },
    {
      "cell_type": "markdown",
      "source": "Now you have all the necessary files to implement a Tetris ROM using the RomAPI. You can further customize the Tetris game by adding visualizations, updating the game logic, and implementing more advanced features like scoring and levels.",
      "metadata": {}
    }
  ]
}